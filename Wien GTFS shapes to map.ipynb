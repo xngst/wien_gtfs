{
 "cells": [
  {
   "cell_type": "markdown",
   "id": "744d4aff",
   "metadata": {},
   "source": [
    "# Wien GTFS shapes to map"
   ]
  },
  {
   "cell_type": "markdown",
   "id": "670212b0",
   "metadata": {},
   "source": [
    "The below code vizualises Wien GTFS (General Transit Feed Specification) shapes data on a html map."
   ]
  },
  {
   "cell_type": "markdown",
   "id": "b5982fad",
   "metadata": {},
   "source": [
    "## Imports"
   ]
  },
  {
   "cell_type": "code",
   "execution_count": 1,
   "id": "b988187b",
   "metadata": {},
   "outputs": [],
   "source": [
    "import os\n",
    "import sqlite3\n",
    "import datetime\n",
    "\n",
    "import folium #https://pypi.org/project/folium/\n",
    "from pathlib import Path\n",
    "\n",
    "USER = \"xn\"\n",
    "DB_NAME = \"wien_gtfs_db.db\"\n",
    "DB_PATH = Path(f\"/home/{USER}/Documents/wien_gtfs/db\")\n",
    "MAP_PATH = Path(f\"/home/{USER}/Documents/wien_gtfs/map\")"
   ]
  },
  {
   "cell_type": "markdown",
   "id": "621c9f7b",
   "metadata": {},
   "source": [
    "## Mapping with folium"
   ]
  },
  {
   "cell_type": "code",
   "execution_count": 2,
   "id": "eae5fa41",
   "metadata": {},
   "outputs": [
    {
     "name": "stdout",
     "output_type": "stream",
     "text": [
      "CPU times: user 9.64 s, sys: 1.86 s, total: 11.5 s\n",
      "Wall time: 11.5 s\n"
     ]
    }
   ],
   "source": [
    "%%time\n",
    "\n",
    "wien_location = [48.210033, 16.363449]\n",
    "\n",
    "mapit = folium.Map(crs='EPSG3857', \n",
    "                   location=wien_location, \n",
    "                   tiles='Cartodbdark_matter', # None 'stamentoner'\n",
    "                   zoom_start=12)\n",
    "\n",
    "con = sqlite3.connect(DB_PATH/DB_NAME)\n",
    "cursor = con.cursor()\n",
    "\n",
    "cursor.execute(\"SELECT DISTINCT shape_id FROM shapes\")\n",
    "distinct_shapes = cursor.fetchall()\n",
    "\n",
    "for shape in distinct_shapes:\n",
    "    cursor.execute(f\"SELECT * FROM shapes WHERE shape_id = '{shape[0]}'\")\n",
    "    one_shape = cursor.fetchall()\n",
    "    coordinate_list = []\n",
    "    for line in one_shape:\n",
    "        shape_id = line[0]\n",
    "        coorinate = (line[1],line[2])\n",
    "        coordinate_list.append(coorinate)\n",
    "        \n",
    "    folium.PolyLine(locations=coordinate_list, \n",
    "                    tooltip=shape_id,\n",
    "                    color=\"red\", \n",
    "                    weight=2, \n",
    "                    opacity=0.75).add_to(mapit)\n",
    "\n",
    "cursor.close()\n",
    "con.close()\n",
    "\n",
    "mapit.save(MAP_PATH/\"wien_lines.html\")"
   ]
  }
 ],
 "metadata": {
  "kernelspec": {
   "display_name": "Python 3 (ipykernel)",
   "language": "python",
   "name": "python3"
  },
  "language_info": {
   "codemirror_mode": {
    "name": "ipython",
    "version": 3
   },
   "file_extension": ".py",
   "mimetype": "text/x-python",
   "name": "python",
   "nbconvert_exporter": "python",
   "pygments_lexer": "ipython3",
   "version": "3.10.4"
  }
 },
 "nbformat": 4,
 "nbformat_minor": 5
}
